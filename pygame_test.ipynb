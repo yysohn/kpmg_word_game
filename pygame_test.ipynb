{
 "cells": [
  {
   "cell_type": "markdown",
   "metadata": {},
   "source": [
    "# pygame 모듈 테스트"
   ]
  },
  {
   "cell_type": "code",
   "execution_count": 78,
   "metadata": {},
   "outputs": [],
   "source": [
    "# import csv\n",
    "import random\n",
    "import time\n",
    "from pygame import mixer\n",
    "mixer.init() # 미디어 파일을 사용하기 위한 초기화\n",
    "        "
   ]
  },
  {
   "cell_type": "code",
   "execution_count": 75,
   "metadata": {},
   "outputs": [],
   "source": [
    "def wordLoad():\n",
    "    words = []\n",
    "    with open(\"data/word.txt\",\"r\", encoding=\"utf-8\") as file:\n",
    "        for line in file:\n",
    "            word = line.strip()\n",
    "            words.append(word)"
   ]
  },
  {
   "cell_type": "code",
   "execution_count": 79,
   "metadata": {},
   "outputs": [],
   "source": [
    "def gameRun(n):\n",
    "    total_match = 0\n",
    "    start_time = time.time()\n",
    "    for j in range(int(n)):\n",
    "        word = random.choice(words)\n",
    "        print(word)\n",
    "        match = 0\n",
    "        for i in range(5):\n",
    "            typing_word = input()\n",
    "            print(typing_word)\n",
    "            if word == typing_word:\n",
    "                match = match + 1\n",
    "                mixer.music.load('assets/good.wav') # 소리파일 path\n",
    "                mixer.music.play()\n",
    "            else:\n",
    "                mixer.music.load('assets/bad.wav') # 소리파일 path\n",
    "                mixer.music.play()\n",
    "        if match >= 3:\n",
    "            print(f\"합격, {match}개 맞췄습니다\")\n",
    "        else:\n",
    "            print(f\"불합격, {match}개 맞췄습니다\")\n",
    "            \n",
    "        total_match = total_match + match\n",
    "\n",
    "    end_time = time.time()\n",
    "    elapsed_time = end_time - start_time\n",
    "    print(f\"총 걸린 시간: {elapsed_time:.2f}초 입니다\")\n",
    "    print(f\"총 맞춘 갯수: {total_match}입니다\")\n",
    "    return elapsed_time, total_match"
   ]
  },
  {
   "cell_type": "code",
   "execution_count": null,
   "metadata": {},
   "outputs": [
    {
     "name": "stdout",
     "output_type": "stream",
     "text": [
      "sp\n",
      "sp\n",
      "sp\n",
      "sp\n",
      "sp\n",
      "d\n",
      "합격, 4개 맞췄습니다\n",
      "profit\n",
      "d\n",
      "d\n",
      "d\n",
      "dd\n",
      "d\n",
      "불합격, 0개 맞췄습니다\n",
      "restrictions\n",
      "d\n",
      "d\n",
      "d\n",
      "d\n",
      "d\n",
      "불합격, 0개 맞췄습니다\n",
      "총 걸린 시간: 15.63초 입니다\n",
      "총 맞춘 갯수: 4입니다\n"
     ]
    }
   ],
   "source": [
    "wordLoad()\n",
    "n = input(\"게임횟수를 입력하세요 > \")\n",
    "elapsed_time, total_match = gameRun(n)\n",
    "with open(\"data/word_game_score.csv\", \"w\", encoding=\"utf-8\") as file:\n",
    "    file.write(f\"{elapsed_time:.2f}, {total_match}\\n\")"
   ]
  }
 ],
 "metadata": {
  "kernelspec": {
   "display_name": "Python 3",
   "language": "python",
   "name": "python3"
  },
  "language_info": {
   "codemirror_mode": {
    "name": "ipython",
    "version": 3
   },
   "file_extension": ".py",
   "mimetype": "text/x-python",
   "name": "python",
   "nbconvert_exporter": "python",
   "pygments_lexer": "ipython3",
   "version": "3.12.9"
  }
 },
 "nbformat": 4,
 "nbformat_minor": 2
}
